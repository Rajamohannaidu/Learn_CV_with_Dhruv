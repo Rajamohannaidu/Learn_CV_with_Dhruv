{
  "nbformat": 4,
  "nbformat_minor": 0,
  "metadata": {
    "colab": {
      "provenance": [],
      "authorship_tag": "ABX9TyPiYbxrPYJoKGvliTKYGldJ",
      "include_colab_link": true
    },
    "kernelspec": {
      "name": "python3",
      "display_name": "Python 3"
    },
    "language_info": {
      "name": "python"
    },
    "widgets": {
      "application/vnd.jupyter.widget-state+json": {
        "efb73e90a3504175832b7f956077a961": {
          "model_module": "@jupyter-widgets/controls",
          "model_name": "VBoxModel",
          "model_module_version": "1.5.0",
          "state": {
            "_dom_classes": [
              "widget-interact"
            ],
            "_model_module": "@jupyter-widgets/controls",
            "_model_module_version": "1.5.0",
            "_model_name": "VBoxModel",
            "_view_count": null,
            "_view_module": "@jupyter-widgets/controls",
            "_view_module_version": "1.5.0",
            "_view_name": "VBoxView",
            "box_style": "",
            "children": [
              "IPY_MODEL_d17f46e7342e46bfa70ca248a9947a1b",
              "IPY_MODEL_43fe9688b572467fa0325115a54275e9"
            ],
            "layout": "IPY_MODEL_131d9b252fc24419bac2a6e3a42a5041"
          }
        },
        "d17f46e7342e46bfa70ca248a9947a1b": {
          "model_module": "@jupyter-widgets/controls",
          "model_name": "FloatSliderModel",
          "model_module_version": "1.5.0",
          "state": {
            "_dom_classes": [],
            "_model_module": "@jupyter-widgets/controls",
            "_model_module_version": "1.5.0",
            "_model_name": "FloatSliderModel",
            "_view_count": null,
            "_view_module": "@jupyter-widgets/controls",
            "_view_module_version": "1.5.0",
            "_view_name": "FloatSliderView",
            "continuous_update": true,
            "description": "threshold_ratio",
            "description_tooltip": null,
            "disabled": false,
            "layout": "IPY_MODEL_3099de59f9ac4609ad45196d554b963f",
            "max": 0.1,
            "min": 0.0001,
            "orientation": "horizontal",
            "readout": true,
            "readout_format": ".2f",
            "step": 0.001,
            "style": "IPY_MODEL_5dd9c6777fcc4832aecce639ba2426c5",
            "value": 0.0001
          }
        },
        "43fe9688b572467fa0325115a54275e9": {
          "model_module": "@jupyter-widgets/output",
          "model_name": "OutputModel",
          "model_module_version": "1.0.0",
          "state": {
            "_dom_classes": [],
            "_model_module": "@jupyter-widgets/output",
            "_model_module_version": "1.0.0",
            "_model_name": "OutputModel",
            "_view_count": null,
            "_view_module": "@jupyter-widgets/output",
            "_view_module_version": "1.0.0",
            "_view_name": "OutputView",
            "layout": "IPY_MODEL_c146dc21285946ceb044b1bb8196d214",
            "msg_id": "",
            "outputs": [
              {
                "output_type": "display_data",
                "data": {
                  "text/plain": "<Figure size 600x600 with 1 Axes>",
                  "image/png": "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\n"
                },
                "metadata": {}
              }
            ]
          }
        },
        "131d9b252fc24419bac2a6e3a42a5041": {
          "model_module": "@jupyter-widgets/base",
          "model_name": "LayoutModel",
          "model_module_version": "1.2.0",
          "state": {
            "_model_module": "@jupyter-widgets/base",
            "_model_module_version": "1.2.0",
            "_model_name": "LayoutModel",
            "_view_count": null,
            "_view_module": "@jupyter-widgets/base",
            "_view_module_version": "1.2.0",
            "_view_name": "LayoutView",
            "align_content": null,
            "align_items": null,
            "align_self": null,
            "border": null,
            "bottom": null,
            "display": null,
            "flex": null,
            "flex_flow": null,
            "grid_area": null,
            "grid_auto_columns": null,
            "grid_auto_flow": null,
            "grid_auto_rows": null,
            "grid_column": null,
            "grid_gap": null,
            "grid_row": null,
            "grid_template_areas": null,
            "grid_template_columns": null,
            "grid_template_rows": null,
            "height": null,
            "justify_content": null,
            "justify_items": null,
            "left": null,
            "margin": null,
            "max_height": null,
            "max_width": null,
            "min_height": null,
            "min_width": null,
            "object_fit": null,
            "object_position": null,
            "order": null,
            "overflow": null,
            "overflow_x": null,
            "overflow_y": null,
            "padding": null,
            "right": null,
            "top": null,
            "visibility": null,
            "width": null
          }
        },
        "3099de59f9ac4609ad45196d554b963f": {
          "model_module": "@jupyter-widgets/base",
          "model_name": "LayoutModel",
          "model_module_version": "1.2.0",
          "state": {
            "_model_module": "@jupyter-widgets/base",
            "_model_module_version": "1.2.0",
            "_model_name": "LayoutModel",
            "_view_count": null,
            "_view_module": "@jupyter-widgets/base",
            "_view_module_version": "1.2.0",
            "_view_name": "LayoutView",
            "align_content": null,
            "align_items": null,
            "align_self": null,
            "border": null,
            "bottom": null,
            "display": null,
            "flex": null,
            "flex_flow": null,
            "grid_area": null,
            "grid_auto_columns": null,
            "grid_auto_flow": null,
            "grid_auto_rows": null,
            "grid_column": null,
            "grid_gap": null,
            "grid_row": null,
            "grid_template_areas": null,
            "grid_template_columns": null,
            "grid_template_rows": null,
            "height": null,
            "justify_content": null,
            "justify_items": null,
            "left": null,
            "margin": null,
            "max_height": null,
            "max_width": null,
            "min_height": null,
            "min_width": null,
            "object_fit": null,
            "object_position": null,
            "order": null,
            "overflow": null,
            "overflow_x": null,
            "overflow_y": null,
            "padding": null,
            "right": null,
            "top": null,
            "visibility": null,
            "width": null
          }
        },
        "5dd9c6777fcc4832aecce639ba2426c5": {
          "model_module": "@jupyter-widgets/controls",
          "model_name": "SliderStyleModel",
          "model_module_version": "1.5.0",
          "state": {
            "_model_module": "@jupyter-widgets/controls",
            "_model_module_version": "1.5.0",
            "_model_name": "SliderStyleModel",
            "_view_count": null,
            "_view_module": "@jupyter-widgets/base",
            "_view_module_version": "1.2.0",
            "_view_name": "StyleView",
            "description_width": "",
            "handle_color": null
          }
        },
        "c146dc21285946ceb044b1bb8196d214": {
          "model_module": "@jupyter-widgets/base",
          "model_name": "LayoutModel",
          "model_module_version": "1.2.0",
          "state": {
            "_model_module": "@jupyter-widgets/base",
            "_model_module_version": "1.2.0",
            "_model_name": "LayoutModel",
            "_view_count": null,
            "_view_module": "@jupyter-widgets/base",
            "_view_module_version": "1.2.0",
            "_view_name": "LayoutView",
            "align_content": null,
            "align_items": null,
            "align_self": null,
            "border": null,
            "bottom": null,
            "display": null,
            "flex": null,
            "flex_flow": null,
            "grid_area": null,
            "grid_auto_columns": null,
            "grid_auto_flow": null,
            "grid_auto_rows": null,
            "grid_column": null,
            "grid_gap": null,
            "grid_row": null,
            "grid_template_areas": null,
            "grid_template_columns": null,
            "grid_template_rows": null,
            "height": null,
            "justify_content": null,
            "justify_items": null,
            "left": null,
            "margin": null,
            "max_height": null,
            "max_width": null,
            "min_height": null,
            "min_width": null,
            "object_fit": null,
            "object_position": null,
            "order": null,
            "overflow": null,
            "overflow_x": null,
            "overflow_y": null,
            "padding": null,
            "right": null,
            "top": null,
            "visibility": null,
            "width": null
          }
        }
      }
    }
  },
  "cells": [
    {
      "cell_type": "markdown",
      "metadata": {
        "id": "view-in-github",
        "colab_type": "text"
      },
      "source": [
        "<a href=\"https://colab.research.google.com/github/DhrubaAdhikary/Learn_CV_with_Dhruv/blob/master/Harris_Corner_Detector.ipynb\" target=\"_parent\"><img src=\"https://colab.research.google.com/assets/colab-badge.svg\" alt=\"Open In Colab\"/></a>"
      ]
    },
    {
      "cell_type": "code",
      "execution_count": 1,
      "metadata": {
        "id": "maIVQlH_O8jn"
      },
      "outputs": [],
      "source": [
        "import numpy as np\n",
        "import matplotlib.pyplot as plt\n",
        "from scipy.signal import convolve2d\n",
        "from tabulate import tabulate\n",
        "\n",
        "# 5x5 sample grayscale image\n",
        "img = np.array([\n",
        "    [10, 10, 10, 10, 10],\n",
        "    [10, 10, 10, 10, 10],\n",
        "    [10, 10,250,250,250],\n",
        "    [10, 10,250,250,250],\n",
        "    [10, 10,250,250,250],\n",
        "], dtype=np.float32)\n"
      ]
    },
    {
      "cell_type": "code",
      "source": [
        "sobel_x = np.array([[-1, 0, 1],\n",
        "                    [-2, 0, 2],\n",
        "                    [-1, 0, 1]])\n",
        "\n",
        "sobel_y = np.array([[-1, -2, -1],\n",
        "                    [ 0,  0,  0],\n",
        "                    [ 1,  2,  1]])\n"
      ],
      "metadata": {
        "id": "dXPNbCagO-Sx"
      },
      "execution_count": 2,
      "outputs": []
    },
    {
      "cell_type": "code",
      "source": [
        "import numpy as np\n",
        "import pandas as pd\n",
        "from scipy.signal import convolve2d\n",
        "from tabulate import tabulate\n",
        "\n",
        "# 1. Input 5x5 image\n",
        "img = np.array([\n",
        "    [10, 10, 10, 10, 10],\n",
        "    [10, 10, 10, 10, 10],\n",
        "    [10, 10, 250, 250, 250],\n",
        "    [10, 10, 250, 250, 250],\n",
        "    [10, 10, 250, 250, 250],\n",
        "], dtype=np.float32)\n",
        "\n",
        "# 2. Sobel kernels\n",
        "sobel_x = np.array([[-1, 0, 1],\n",
        "                    [-2, 0, 2],\n",
        "                    [-1, 0, 1]])\n",
        "sobel_y = np.array([[-1, -2, -1],\n",
        "                    [ 0,  0,  0],\n",
        "                    [ 1,  2,  1]])\n",
        "\n",
        "# 3. Convolutions\n",
        "Ix = convolve2d(img, sobel_x, mode='same', boundary='symm')\n",
        "Iy = convolve2d(img, sobel_y, mode='same', boundary='symm')\n",
        "Ix2 = Ix ** 2\n",
        "Iy2 = Iy ** 2\n",
        "Ixy = Ix * Iy\n",
        "\n",
        "# 4. Build results table\n",
        "rows = []\n",
        "for i in range(1, 4):\n",
        "    for j in range(1, 4):\n",
        "        patch = img[i-1:i+2, j-1:j+2]\n",
        "        mult_x = patch * sobel_x\n",
        "        mult_y = patch * sobel_y\n",
        "        ix_val = Ix[i, j]\n",
        "        iy_val = Iy[i, j]\n",
        "        ixiy = ix_val * iy_val\n",
        "        rows.append({\n",
        "            \"Point\": f\"({i},{j})\",\n",
        "            \"Patch\": str(patch.astype(int).tolist()),\n",
        "            \"Sobel_X Elementwise\": str(mult_x.tolist()),\n",
        "            \"Sobel_Y Elementwise\": str(mult_y.tolist()),\n",
        "            \"Ix\": ix_val,\n",
        "            \"Iy\": iy_val,\n",
        "            \"Ix*Iy\": ixiy\n",
        "        })\n",
        "\n",
        "\n",
        "df = pd.DataFrame(rows)\n",
        "\n",
        "# 5. Display table\n",
        "print(tabulate(df, headers='keys', tablefmt='grid', showindex=False))\n"
      ],
      "metadata": {
        "colab": {
          "base_uri": "https://localhost:8080/"
        },
        "id": "RC08BYoHPBBP",
        "outputId": "1da95d0b-f2c2-4424-bf55-d5b8e0f30d5e"
      },
      "execution_count": 9,
      "outputs": [
        {
          "output_type": "stream",
          "name": "stdout",
          "text": [
            "+---------+-----------------------------------------------------+--------------------------------------------------------------------+--------------------------------------------------------------------+------+------+---------+\n",
            "| Point   | Patch                                               | Sobel_X Elementwise                                                | Sobel_Y Elementwise                                                |   Ix |   Iy |   Ix*Iy |\n",
            "+=========+=====================================================+====================================================================+====================================================================+======+======+=========+\n",
            "| (1,1)   | [[10, 10, 10], [10, 10, 10], [10, 10, 250]]         | [[-10.0, 0.0, 10.0], [-20.0, 0.0, 20.0], [-10.0, 0.0, 250.0]]      | [[-10.0, -20.0, -10.0], [0.0, 0.0, 0.0], [10.0, 20.0, 250.0]]      | -240 | -240 |   57600 |\n",
            "+---------+-----------------------------------------------------+--------------------------------------------------------------------+--------------------------------------------------------------------+------+------+---------+\n",
            "| (1,2)   | [[10, 10, 10], [10, 10, 10], [10, 250, 250]]        | [[-10.0, 0.0, 10.0], [-20.0, 0.0, 20.0], [-10.0, 0.0, 250.0]]      | [[-10.0, -20.0, -10.0], [0.0, 0.0, 0.0], [10.0, 500.0, 250.0]]     | -240 | -720 |  172800 |\n",
            "+---------+-----------------------------------------------------+--------------------------------------------------------------------+--------------------------------------------------------------------+------+------+---------+\n",
            "| (1,3)   | [[10, 10, 10], [10, 10, 10], [250, 250, 250]]       | [[-10.0, 0.0, 10.0], [-20.0, 0.0, 20.0], [-250.0, 0.0, 250.0]]     | [[-10.0, -20.0, -10.0], [0.0, 0.0, 0.0], [250.0, 500.0, 250.0]]    |    0 | -960 |      -0 |\n",
            "+---------+-----------------------------------------------------+--------------------------------------------------------------------+--------------------------------------------------------------------+------+------+---------+\n",
            "| (2,1)   | [[10, 10, 10], [10, 10, 250], [10, 10, 250]]        | [[-10.0, 0.0, 10.0], [-20.0, 0.0, 500.0], [-10.0, 0.0, 250.0]]     | [[-10.0, -20.0, -10.0], [0.0, 0.0, 0.0], [10.0, 20.0, 250.0]]      | -720 | -240 |  172800 |\n",
            "+---------+-----------------------------------------------------+--------------------------------------------------------------------+--------------------------------------------------------------------+------+------+---------+\n",
            "| (2,2)   | [[10, 10, 10], [10, 250, 250], [10, 250, 250]]      | [[-10.0, 0.0, 10.0], [-20.0, 0.0, 500.0], [-10.0, 0.0, 250.0]]     | [[-10.0, -20.0, -10.0], [0.0, 0.0, 0.0], [10.0, 500.0, 250.0]]     | -720 | -720 |  518400 |\n",
            "+---------+-----------------------------------------------------+--------------------------------------------------------------------+--------------------------------------------------------------------+------+------+---------+\n",
            "| (2,3)   | [[10, 10, 10], [250, 250, 250], [250, 250, 250]]    | [[-10.0, 0.0, 10.0], [-500.0, 0.0, 500.0], [-250.0, 0.0, 250.0]]   | [[-10.0, -20.0, -10.0], [0.0, 0.0, 0.0], [250.0, 500.0, 250.0]]    |    0 | -960 |      -0 |\n",
            "+---------+-----------------------------------------------------+--------------------------------------------------------------------+--------------------------------------------------------------------+------+------+---------+\n",
            "| (3,1)   | [[10, 10, 250], [10, 10, 250], [10, 10, 250]]       | [[-10.0, 0.0, 250.0], [-20.0, 0.0, 500.0], [-10.0, 0.0, 250.0]]    | [[-10.0, -20.0, -250.0], [0.0, 0.0, 0.0], [10.0, 20.0, 250.0]]     | -960 |    0 |      -0 |\n",
            "+---------+-----------------------------------------------------+--------------------------------------------------------------------+--------------------------------------------------------------------+------+------+---------+\n",
            "| (3,2)   | [[10, 250, 250], [10, 250, 250], [10, 250, 250]]    | [[-10.0, 0.0, 250.0], [-20.0, 0.0, 500.0], [-10.0, 0.0, 250.0]]    | [[-10.0, -500.0, -250.0], [0.0, 0.0, 0.0], [10.0, 500.0, 250.0]]   | -960 |    0 |      -0 |\n",
            "+---------+-----------------------------------------------------+--------------------------------------------------------------------+--------------------------------------------------------------------+------+------+---------+\n",
            "| (3,3)   | [[250, 250, 250], [250, 250, 250], [250, 250, 250]] | [[-250.0, 0.0, 250.0], [-500.0, 0.0, 500.0], [-250.0, 0.0, 250.0]] | [[-250.0, -500.0, -250.0], [0.0, 0.0, 0.0], [250.0, 500.0, 250.0]] |    0 |    0 |       0 |\n",
            "+---------+-----------------------------------------------------+--------------------------------------------------------------------+--------------------------------------------------------------------+------+------+---------+\n"
          ]
        }
      ]
    },
    {
      "cell_type": "code",
      "source": [
        "Ix,Iy,Ixy"
      ],
      "metadata": {
        "colab": {
          "base_uri": "https://localhost:8080/"
        },
        "id": "-TYvd5h0TJGS",
        "outputId": "01d5147e-5696-4c4e-e2a8-5d70c2793fb9"
      },
      "execution_count": 17,
      "outputs": [
        {
          "output_type": "execute_result",
          "data": {
            "text/plain": [
              "(array([[   0.,    0.,    0.,    0.,    0.],\n",
              "        [   0., -240., -240.,    0.,    0.],\n",
              "        [   0., -720., -720.,    0.,    0.],\n",
              "        [   0., -960., -960.,    0.,    0.],\n",
              "        [   0., -960., -960.,    0.,    0.]]),\n",
              " array([[   0.,    0.,    0.,    0.,    0.],\n",
              "        [   0., -240., -720., -960., -960.],\n",
              "        [   0., -240., -720., -960., -960.],\n",
              "        [   0.,    0.,    0.,    0.,    0.],\n",
              "        [   0.,    0.,    0.,    0.,    0.]]),\n",
              " array([[     0.,      0.,      0.,      0.,      0.],\n",
              "        [     0.,  57600., 172800.,     -0.,     -0.],\n",
              "        [     0., 172800., 518400.,     -0.,     -0.],\n",
              "        [     0.,     -0.,     -0.,      0.,      0.],\n",
              "        [     0.,     -0.,     -0.,      0.,      0.]]))"
            ]
          },
          "metadata": {},
          "execution_count": 17
        }
      ]
    },
    {
      "cell_type": "code",
      "source": [
        "Ix2,Iy2"
      ],
      "metadata": {
        "colab": {
          "base_uri": "https://localhost:8080/"
        },
        "id": "rTqo140PTXCd",
        "outputId": "d1b044ae-552e-4454-c069-2cbb0b3801c2"
      },
      "execution_count": 19,
      "outputs": [
        {
          "output_type": "execute_result",
          "data": {
            "text/plain": [
              "(array([[     0.,      0.,      0.,      0.,      0.],\n",
              "        [     0.,  57600.,  57600.,      0.,      0.],\n",
              "        [     0., 518400., 518400.,      0.,      0.],\n",
              "        [     0., 921600., 921600.,      0.,      0.],\n",
              "        [     0., 921600., 921600.,      0.,      0.]]),\n",
              " array([[     0.,      0.,      0.,      0.,      0.],\n",
              "        [     0.,  57600., 518400., 921600., 921600.],\n",
              "        [     0.,  57600., 518400., 921600., 921600.],\n",
              "        [     0.,      0.,      0.,      0.,      0.],\n",
              "        [     0.,      0.,      0.,      0.,      0.]]))"
            ]
          },
          "metadata": {},
          "execution_count": 19
        }
      ]
    },
    {
      "cell_type": "code",
      "source": [
        "gaussian_kernel = (1/16) * np.array([[1, 2, 1],\n",
        "                                     [2, 4, 2],\n",
        "                                     [1, 2, 1]])\n",
        "\n",
        "# Step 5: Smooth gradient products\n",
        "Sxx = convolve2d(Ix2, gaussian_kernel, mode='same', boundary='symm')\n",
        "Syy = convolve2d(Iy2, gaussian_kernel, mode='same', boundary='symm')\n",
        "Sxy = convolve2d(Ixy, gaussian_kernel, mode='same', boundary='symm')\n",
        "\n",
        "# Step 6: Build table for center 3x3 points\n",
        "rows = []\n",
        "for i in range(1, 4):\n",
        "    for j in range(1, 4):\n",
        "        patch_Ix2 = Ix2[i-1:i+2, j-1:j+2]\n",
        "        patch_Iy2 = Iy2[i-1:i+2, j-1:j+2]\n",
        "        patch_Ixy = Ixy[i-1:i+2, j-1:j+2]\n",
        "        rows.append({\n",
        "            \"Point\": f\"({i},{j})\",\n",
        "            \"Ix² Patch\": str(np.round(patch_Ix2, 1).tolist()),\n",
        "            \"Iy² Patch\": str(np.round(patch_Iy2, 1).tolist()),\n",
        "            \"Ix·Iy Patch\": str(np.round(patch_Ixy, 1).tolist()),\n",
        "            \"Sxx\": np.round(Sxx[i, j], 2),\n",
        "            \"Syy\": np.round(Syy[i, j], 2),\n",
        "            \"Sxy\": np.round(Sxy[i, j], 2)\n",
        "        })\n",
        "\n",
        "# Step 7: Display\n",
        "df = pd.DataFrame(rows)\n",
        "print(tabulate(df, headers='keys', tablefmt='grid', showindex=False))\n",
        "\n"
      ],
      "metadata": {
        "colab": {
          "base_uri": "https://localhost:8080/"
        },
        "id": "Ge7hpJqkPDap",
        "outputId": "e118fa41-6db7-4b45-d7cc-d91708a7d1cb"
      },
      "execution_count": 10,
      "outputs": [
        {
          "output_type": "stream",
          "name": "stdout",
          "text": [
            "+---------+-----------------------------------------------------------------------------------+-----------------------------------------------------------------------------------+----------------------------------------------------------------------------+--------+--------+--------+\n",
            "| Point   | Ix² Patch                                                                         | Iy² Patch                                                                         | Ix·Iy Patch                                                                |    Sxx |    Syy |    Sxy |\n",
            "+=========+===================================================================================+===================================================================================+============================================================================+========+========+========+\n",
            "| (1,1)   | [[0.0, 0.0, 0.0], [0.0, 57600.0, 57600.0], [0.0, 518400.0, 518400.0]]             | [[0.0, 0.0, 0.0], [0.0, 57600.0, 518400.0], [0.0, 57600.0, 518400.0]]             | [[0.0, 0.0, 0.0], [0.0, 57600.0, 172800.0], [0.0, 172800.0, 518400.0]]     | 118800 | 118800 |  90000 |\n",
            "+---------+-----------------------------------------------------------------------------------+-----------------------------------------------------------------------------------+----------------------------------------------------------------------------+--------+--------+--------+\n",
            "| (1,2)   | [[0.0, 0.0, 0.0], [57600.0, 57600.0, 0.0], [518400.0, 518400.0, 0.0]]             | [[0.0, 0.0, 0.0], [57600.0, 518400.0, 921600.0], [57600.0, 518400.0, 921600.0]]   | [[0.0, 0.0, 0.0], [57600.0, 172800.0, -0.0], [172800.0, 518400.0, -0.0]]   | 118800 | 378000 | 126000 |\n",
            "+---------+-----------------------------------------------------------------------------------+-----------------------------------------------------------------------------------+----------------------------------------------------------------------------+--------+--------+--------+\n",
            "| (1,3)   | [[0.0, 0.0, 0.0], [57600.0, 0.0, 0.0], [518400.0, 0.0, 0.0]]                      | [[0.0, 0.0, 0.0], [518400.0, 921600.0, 921600.0], [518400.0, 921600.0, 921600.0]] | [[0.0, 0.0, 0.0], [172800.0, -0.0, -0.0], [518400.0, -0.0, -0.0]]          |  39600 | 615600 |  54000 |\n",
            "+---------+-----------------------------------------------------------------------------------+-----------------------------------------------------------------------------------+----------------------------------------------------------------------------+--------+--------+--------+\n",
            "| (2,1)   | [[0.0, 57600.0, 57600.0], [0.0, 518400.0, 518400.0], [0.0, 921600.0, 921600.0]]   | [[0.0, 57600.0, 518400.0], [0.0, 57600.0, 518400.0], [0.0, 0.0, 0.0]]             | [[0.0, 57600.0, 172800.0], [0.0, 172800.0, 518400.0], [0.0, -0.0, -0.0]]   | 378000 | 118800 | 126000 |\n",
            "+---------+-----------------------------------------------------------------------------------+-----------------------------------------------------------------------------------+----------------------------------------------------------------------------+--------+--------+--------+\n",
            "| (2,2)   | [[57600.0, 57600.0, 0.0], [518400.0, 518400.0, 0.0], [921600.0, 921600.0, 0.0]]   | [[57600.0, 518400.0, 921600.0], [57600.0, 518400.0, 921600.0], [0.0, 0.0, 0.0]]   | [[57600.0, 172800.0, -0.0], [172800.0, 518400.0, -0.0], [-0.0, -0.0, 0.0]] | 378000 | 378000 | 176400 |\n",
            "+---------+-----------------------------------------------------------------------------------+-----------------------------------------------------------------------------------+----------------------------------------------------------------------------+--------+--------+--------+\n",
            "| (2,3)   | [[57600.0, 0.0, 0.0], [518400.0, 0.0, 0.0], [921600.0, 0.0, 0.0]]                 | [[518400.0, 921600.0, 921600.0], [518400.0, 921600.0, 921600.0], [0.0, 0.0, 0.0]] | [[172800.0, -0.0, -0.0], [518400.0, -0.0, -0.0], [-0.0, 0.0, 0.0]]         | 126000 | 615600 |  75600 |\n",
            "+---------+-----------------------------------------------------------------------------------+-----------------------------------------------------------------------------------+----------------------------------------------------------------------------+--------+--------+--------+\n",
            "| (3,1)   | [[0.0, 518400.0, 518400.0], [0.0, 921600.0, 921600.0], [0.0, 921600.0, 921600.0]] | [[0.0, 57600.0, 518400.0], [0.0, 0.0, 0.0], [0.0, 0.0, 0.0]]                      | [[0.0, 172800.0, 518400.0], [0.0, -0.0, -0.0], [0.0, -0.0, -0.0]]          | 615600 |  39600 |  54000 |\n",
            "+---------+-----------------------------------------------------------------------------------+-----------------------------------------------------------------------------------+----------------------------------------------------------------------------+--------+--------+--------+\n",
            "| (3,2)   | [[518400.0, 518400.0, 0.0], [921600.0, 921600.0, 0.0], [921600.0, 921600.0, 0.0]] | [[57600.0, 518400.0, 921600.0], [0.0, 0.0, 0.0], [0.0, 0.0, 0.0]]                 | [[172800.0, 518400.0, -0.0], [-0.0, -0.0, 0.0], [-0.0, -0.0, 0.0]]         | 615600 | 126000 |  75600 |\n",
            "+---------+-----------------------------------------------------------------------------------+-----------------------------------------------------------------------------------+----------------------------------------------------------------------------+--------+--------+--------+\n",
            "| (3,3)   | [[518400.0, 0.0, 0.0], [921600.0, 0.0, 0.0], [921600.0, 0.0, 0.0]]                | [[518400.0, 921600.0, 921600.0], [0.0, 0.0, 0.0], [0.0, 0.0, 0.0]]                | [[518400.0, -0.0, -0.0], [-0.0, 0.0, 0.0], [-0.0, 0.0, 0.0]]               | 205200 | 205200 |  32400 |\n",
            "+---------+-----------------------------------------------------------------------------------+-----------------------------------------------------------------------------------+----------------------------------------------------------------------------+--------+--------+--------+\n"
          ]
        }
      ]
    },
    {
      "cell_type": "code",
      "source": [
        "k = 0.04  # Harris constant\n",
        "\n",
        "for row in rows:\n",
        "    Sxx_val = row[\"Sxx\"]\n",
        "    Syy_val = row[\"Syy\"]\n",
        "    Sxy_val = row[\"Sxy\"]\n",
        "\n",
        "    det_M = Sxx_val * Syy_val - Sxy_val ** 2\n",
        "    trace_M = Sxx_val + Syy_val\n",
        "    R = det_M - k * (trace_M ** 2)\n",
        "    row[\"R\"] = np.round(R, 2)\n",
        "\n",
        "# Convert to DataFrame again to include R\n",
        "df_r = pd.DataFrame(rows)\n",
        "\n",
        "# Display R score\n",
        "from tabulate import tabulate\n",
        "print(tabulate(df_r[[\"Point\", \"Sxx\", \"Syy\", \"Sxy\", \"R\"]], headers='keys', tablefmt='grid', showindex=False))\n"
      ],
      "metadata": {
        "colab": {
          "base_uri": "https://localhost:8080/"
        },
        "id": "xUNlCd5sPG5r",
        "outputId": "8de3f174-055d-4356-a740-8970a751415c"
      },
      "execution_count": 12,
      "outputs": [
        {
          "output_type": "stream",
          "name": "stdout",
          "text": [
            "+---------+--------+--------+--------+-------------+\n",
            "| Point   |    Sxx |    Syy |    Sxy |           R |\n",
            "+=========+========+========+========+=============+\n",
            "| (1,1)   | 118800 | 118800 |  90000 | 3.75529e+09 |\n",
            "+---------+--------+--------+--------+-------------+\n",
            "| (1,2)   | 118800 | 378000 | 126000 | 1.9158e+10  |\n",
            "+---------+--------+--------+--------+-------------+\n",
            "| (1,3)   |  39600 | 615600 |  54000 | 4.29028e+09 |\n",
            "+---------+--------+--------+--------+-------------+\n",
            "| (2,1)   | 378000 | 118800 | 126000 | 1.9158e+10  |\n",
            "+---------+--------+--------+--------+-------------+\n",
            "| (2,2)   | 378000 | 378000 | 176400 | 8.89056e+10 |\n",
            "+---------+--------+--------+--------+-------------+\n",
            "| (2,3)   | 126000 | 615600 |  75600 | 4.98514e+10 |\n",
            "+---------+--------+--------+--------+-------------+\n",
            "| (3,1)   | 615600 |  39600 |  54000 | 4.29028e+09 |\n",
            "+---------+--------+--------+--------+-------------+\n",
            "| (3,2)   | 615600 | 126000 |  75600 | 4.98514e+10 |\n",
            "+---------+--------+--------+--------+-------------+\n",
            "| (3,3)   | 205200 | 205200 |  32400 | 3.43202e+10 |\n",
            "+---------+--------+--------+--------+-------------+\n"
          ]
        }
      ]
    },
    {
      "cell_type": "code",
      "source": [
        "import matplotlib.pyplot as plt\n",
        "\n",
        "# Step 1: Allocate full R-map\n",
        "H = np.zeros_like(img)\n",
        "\n",
        "# Step 2: Fill Harris R values in valid region\n",
        "for i in range(1, 4):\n",
        "    for j in range(1, 4):\n",
        "        Sxx_val = Sxx[i, j]\n",
        "        Syy_val = Syy[i, j]\n",
        "        Sxy_val = Sxy[i, j]\n",
        "        det_M = Sxx_val * Syy_val - Sxy_val ** 2\n",
        "        trace_M = Sxx_val + Syy_val\n",
        "        R = det_M - k * (trace_M ** 2)\n",
        "        H[i, j] = R\n",
        "\n",
        "# Step 3: Threshold (you can adjust this)\n",
        "threshold = np.max(H) * 0.01\n",
        "corners = (H > threshold)\n",
        "\n",
        "# Step 4: Plot\n",
        "plt.figure(figsize=(6, 6))\n",
        "plt.imshow(img, cmap='gray')\n",
        "ys, xs = np.where(corners)\n",
        "plt.scatter(xs, ys, c='red', marker='x', label='Corners')\n",
        "plt.title(\"Harris Corner Detection\")\n",
        "plt.legend()\n",
        "plt.grid(False)\n",
        "plt.axis('off')\n",
        "plt.show()\n"
      ],
      "metadata": {
        "colab": {
          "base_uri": "https://localhost:8080/",
          "height": 521
        },
        "id": "6RuozxeAPJLW",
        "outputId": "8cb57eed-5356-4f17-8680-e2ec47ac7043"
      },
      "execution_count": 13,
      "outputs": [
        {
          "output_type": "display_data",
          "data": {
            "text/plain": [
              "<Figure size 600x600 with 1 Axes>"
            ],
            "image/png": "[encoded data removed]"
          },
          "metadata": {}
        }
      ]
    },
    {
      "cell_type": "code",
      "source": [
        "from ipywidgets import interact, FloatSlider\n",
        "\n",
        "def show_corners(threshold_ratio=0.01):\n",
        "    threshold = np.max(H) * threshold_ratio\n",
        "    corners = (H > threshold)\n",
        "\n",
        "    plt.figure(figsize=(6, 6))\n",
        "    plt.imshow(img, cmap='gray')\n",
        "    ys, xs = np.where(corners)\n",
        "    plt.scatter(xs, ys, c='red', marker='x', label='Corners')\n",
        "    plt.title(f\"Harris Corners (Threshold: {threshold_ratio:.4f})\")\n",
        "    plt.legend()\n",
        "    plt.axis('off')\n",
        "    plt.grid(False)\n",
        "    plt.show()\n",
        "\n",
        "interact(show_corners, threshold_ratio=FloatSlider(value=0.01, min=0.0001, max=0.1, step=0.001))\n"
      ],
      "metadata": {
        "colab": {
          "base_uri": "https://localhost:8080/",
          "height": 640,
          "referenced_widgets": [
            "efb73e90a3504175832b7f956077a961",
            "d17f46e7342e46bfa70ca248a9947a1b",
            "43fe9688b572467fa0325115a54275e9",
            "131d9b252fc24419bac2a6e3a42a5041",
            "3099de59f9ac4609ad45196d554b963f",
            "5dd9c6777fcc4832aecce639ba2426c5",
            "c146dc21285946ceb044b1bb8196d214"
          ]
        },
        "id": "OzbZpIYaQ72z",
        "outputId": "4318677e-0144-4eaa-f2b8-fbe924d4ce05"
      },
      "execution_count": 14,
      "outputs": [
        {
          "output_type": "display_data",
          "data": {
            "text/plain": [
              "interactive(children=(FloatSlider(value=0.01, description='threshold_ratio', max=0.1, min=0.0001, step=0.001),…"
            ],
            "application/vnd.jupyter.widget-view+json": {
              "version_major": 2,
              "version_minor": 0,
              "model_id": "efb73e90a3504175832b7f956077a961"
            }
          },
          "metadata": {}
        },
        {
          "output_type": "execute_result",
          "data": {
            "text/plain": [
              "<function __main__.show_corners(threshold_ratio=0.01)>"
            ],
            "text/html": [
              "<div style=\"max-width:800px; border: 1px solid var(--colab-border-color);\"><style>\n",
              "      pre.function-repr-contents {\n",
              "        overflow-x: auto;\n",
              "        padding: 8px 12px;\n",
              "        max-height: 500px;\n",
              "      }\n",
              "\n",
              "      pre.function-repr-contents.function-repr-contents-collapsed {\n",
              "        cursor: pointer;\n",
              "        max-height: 100px;\n",
              "      }\n",
              "    </style>\n",
              "    <pre style=\"white-space: initial; background:\n",
              "         var(--colab-secondary-surface-color); padding: 8px 12px;\n",
              "         border-bottom: 1px solid var(--colab-border-color);\"><b>show_corners</b><br/>def show_corners(threshold_ratio=0.01)</pre><pre class=\"function-repr-contents function-repr-contents-collapsed\" style=\"\"><a class=\"filepath\" style=\"display:none\" href=\"#\">/content/&lt;ipython-input-14-058b0615fd64&gt;</a>&lt;no docstring&gt;</pre></div>"
            ]
          },
          "metadata": {},
          "execution_count": 14
        }
      ]
    },
    {
      "cell_type": "code",
      "source": [],
      "metadata": {
        "id": "81hk51PyRKBJ"
      },
      "execution_count": null,
      "outputs": []
    }
  ]
}